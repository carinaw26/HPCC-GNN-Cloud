{
 "cells": [
  {
   "cell_type": "markdown",
   "metadata": {
    "id": "W_tvPdyfA-BL"
   },
   "source": [
    "##### Copyright 2018 The TensorFlow Authors."
   ]
  },
  {
   "cell_type": "code",
   "execution_count": 36,
   "metadata": {
    "cellView": "form",
    "execution": {
     "iopub.execute_input": "2021-06-22T01:23:00.595286Z",
     "iopub.status.busy": "2021-06-22T01:23:00.594693Z",
     "iopub.status.idle": "2021-06-22T01:23:00.596537Z",
     "shell.execute_reply": "2021-06-22T01:23:00.596907Z"
    },
    "id": "0O_LFhwSBCjm"
   },
   "outputs": [],
   "source": [
    "#@title Licensed under the Apache License, Version 2.0 (the \"License\");\n",
    "# you may not use this file except in compliance with the License.\n",
    "# You may obtain a copy of the License at\n",
    "#\n",
    "# https://www.apache.org/licenses/LICENSE-2.0\n",
    "#\n",
    "# Unless required by applicable law or agreed to in writing, software\n",
    "# distributed under the License is distributed on an \"AS IS\" BASIS,\n",
    "# WITHOUT WARRANTIES OR CONDITIONS OF ANY KIND, either express or implied.\n",
    "# See the License for the specific language governing permissions and\n",
    "# limitations under the License."
   ]
  },
  {
   "cell_type": "markdown",
   "metadata": {
    "id": "PWUmcKKjtwXL"
   },
   "source": [
    "# Transfer learning with TensorFlow Hub\n",
    "\n",
    "<table class=\"tfo-notebook-buttons\" align=\"left\">\n",
    "  <td>\n",
    "    <a target=\"_blank\" href=\"https://www.tensorflow.org/tutorials/images/transfer_learning_with_hub\"><img src=\"https://www.tensorflow.org/images/tf_logo_32px.png\" />View on TensorFlow.org</a>\n",
    "  </td>\n",
    "  <td>\n",
    "    <a target=\"_blank\" href=\"https://colab.research.google.com/github/tensorflow/docs/blob/master/site/en/tutorials/images/transfer_learning_with_hub.ipynb\"><img src=\"https://www.tensorflow.org/images/colab_logo_32px.png\" />Run in Google Colab</a>\n",
    "  </td>\n",
    "  <td>\n",
    "    <a target=\"_blank\" href=\"https://github.com/tensorflow/docs/blob/master/site/en/tutorials/images/transfer_learning_with_hub.ipynb\"><img src=\"https://www.tensorflow.org/images/GitHub-Mark-32px.png\" />View on GitHub</a>\n",
    "  </td>\n",
    "  <td>\n",
    "    <a href=\"https://storage.googleapis.com/tensorflow_docs/docs/site/en/tutorials/images/transfer_learning_with_hub.ipynb\"><img src=\"https://www.tensorflow.org/images/download_logo_32px.png\" />Download notebook</a>\n",
    "  </td>\n",
    "  <td>\n",
    "    <a href=\"https://tfhub.dev/google/tf2-preview/mobilenet_v2/feature_vector/4\"><img src=\"https://www.tensorflow.org/images/hub_logo_32px.png\" />See TF Hub model</a>\n",
    "  </td>\n",
    "</table>"
   ]
  },
  {
   "cell_type": "markdown",
   "metadata": {
    "id": "crU-iluJIEzw"
   },
   "source": [
    "[TensorFlow Hub](https://tfhub.dev/) is a repository of pre-trained TensorFlow models.\n",
    "\n",
    "This tutorial demonstrates how to:\n",
    "\n",
    "1. Use models from TensorFlow Hub with `tf.keras`\n",
    "1. Use an image classification model from TensorFlow Hub\n",
    "1. Do simple transfer learning to fine-tune a model for your own image classes"
   ]
  },
  {
   "cell_type": "markdown",
   "metadata": {
    "id": "CKFUvuEho9Th"
   },
   "source": [
    "## Setup"
   ]
  },
  {
   "cell_type": "code",
   "execution_count": 7,
   "metadata": {
    "execution": {
     "iopub.execute_input": "2021-06-22T01:23:00.604102Z",
     "iopub.status.busy": "2021-06-22T01:23:00.603456Z",
     "iopub.status.idle": "2021-06-22T01:23:02.433323Z",
     "shell.execute_reply": "2021-06-22T01:23:02.433747Z"
    },
    "id": "OGNpmn43C0O6"
   },
   "outputs": [],
   "source": [
    "import numpy as np\n",
    "import time\n",
    "\n",
    "import PIL.Image as Image\n",
    "import matplotlib.pyplot as plt\n",
    "\n",
    "import tensorflow as tf\n",
    "import tensorflow_hub as hub"
   ]
  },
  {
   "cell_type": "markdown",
   "metadata": {
    "id": "s4YuF5HvpM1W"
   },
   "source": [
    "## An ImageNet classifier\n",
    "\n",
    "You'll start by using a pretrained classifer model to take an image and predict what it's an image of - no training required!"
   ]
  },
  {
   "cell_type": "markdown",
   "metadata": {
    "id": "amfzqn1Oo7Om"
   },
   "source": [
    "## Simple transfer learning"
   ]
  },
  {
   "cell_type": "markdown",
   "metadata": {
    "id": "K-nIpVJ94xrw"
   },
   "source": [
    "But what if you want to train a classifier for a dataset with different classes? You can also use a model from TFHub to train a custom image classier by retraining the top layer of the model to recognize the classes in our dataset."
   ]
  },
  {
   "cell_type": "markdown",
   "metadata": {
    "id": "Z93vvAdGxDMD"
   },
   "source": [
    "### Dataset\n",
    "\n",
    " For this example you will use the TensorFlow flowers dataset:"
   ]
  },
  {
   "cell_type": "code",
   "execution_count": 8,
   "metadata": {
    "execution": {
     "iopub.execute_input": "2021-06-22T01:23:14.786692Z",
     "iopub.status.busy": "2021-06-22T01:23:14.785793Z",
     "iopub.status.idle": "2021-06-22T01:23:23.936886Z",
     "shell.execute_reply": "2021-06-22T01:23:23.936359Z"
    },
    "id": "DrIUV3V0xDL_"
   },
   "outputs": [],
   "source": [
    "data_root = 'C:/hpcc-data/dropzone/ahs-yes-no'"
   ]
  },
  {
   "cell_type": "markdown",
   "metadata": {
    "id": "jFHdp18ccah7"
   },
   "source": [
    "Let's load this data into our model using  images off disk using image_dataset_from_directory."
   ]
  },
  {
   "cell_type": "code",
   "execution_count": 9,
   "metadata": {
    "execution": {
     "iopub.execute_input": "2021-06-22T01:23:23.942437Z",
     "iopub.status.busy": "2021-06-22T01:23:23.941732Z",
     "iopub.status.idle": "2021-06-22T01:23:24.068055Z",
     "shell.execute_reply": "2021-06-22T01:23:24.068441Z"
    },
    "id": "mqnsczfLgcwv"
   },
   "outputs": [
    {
     "name": "stdout",
     "output_type": "stream",
     "text": [
      "Found 4575 files belonging to 2 classes.\n",
      "Using 3660 files for training.\n"
     ]
    }
   ],
   "source": [
    "batch_size = 32\n",
    "img_height = 224\n",
    "img_width = 224\n",
    "\n",
    "train_ds = tf.keras.preprocessing.image_dataset_from_directory(\n",
    "  data_root,\n",
    "  validation_split=0.2,\n",
    "  subset=\"training\",\n",
    "  seed=123,\n",
    "  image_size=(img_height, img_width),\n",
    "  batch_size=batch_size)"
   ]
  },
  {
   "cell_type": "markdown",
   "metadata": {
    "id": "cCrSRlomEIZ4"
   },
   "source": [
    "The flowers dataset has five classes."
   ]
  },
  {
   "cell_type": "code",
   "execution_count": 10,
   "metadata": {
    "execution": {
     "iopub.execute_input": "2021-06-22T01:23:24.072492Z",
     "iopub.status.busy": "2021-06-22T01:23:24.071850Z",
     "iopub.status.idle": "2021-06-22T01:23:24.074593Z",
     "shell.execute_reply": "2021-06-22T01:23:24.074137Z"
    },
    "id": "AFgDHs6VEFRD"
   },
   "outputs": [
    {
     "name": "stdout",
     "output_type": "stream",
     "text": [
      "['no' 'yes']\n"
     ]
    }
   ],
   "source": [
    "class_names = np.array(train_ds.class_names)\n",
    "# index 0 is 'no' and index 1 is 'yes'\n",
    "# These will be used in the final prediction\n",
    "print(class_names)"
   ]
  },
  {
   "cell_type": "markdown",
   "metadata": {
    "id": "L0Btd0V3C8h4"
   },
   "source": [
    "TensorFlow Hub's conventions for image models is to expect float inputs in the `[0, 1]` range. Use the `Rescaling` layer to achieve this."
   ]
  },
  {
   "cell_type": "markdown",
   "metadata": {
    "id": "Rs6gfO-ApTQW"
   },
   "source": [
    "Note: you could also include the `Rescaling` layer inside the model. See this [guide](https://www.tensorflow.org/guide/keras/preprocessing_layers) for a discussion of the tradeoffs."
   ]
  },
  {
   "cell_type": "code",
   "execution_count": 11,
   "metadata": {
    "execution": {
     "iopub.execute_input": "2021-06-22T01:23:24.081315Z",
     "iopub.status.busy": "2021-06-22T01:23:24.080676Z",
     "iopub.status.idle": "2021-06-22T01:23:24.099697Z",
     "shell.execute_reply": "2021-06-22T01:23:24.100129Z"
    },
    "id": "8NzDDWEMCL20"
   },
   "outputs": [],
   "source": [
    "normalization_layer = tf.keras.layers.experimental.preprocessing.Rescaling(1./255)\n",
    "train_ds = train_ds.map(lambda x, y: (normalization_layer(x), y))"
   ]
  },
  {
   "cell_type": "markdown",
   "metadata": {
    "id": "IW-BUJ-NC7y-"
   },
   "source": [
    "Let's make sure to use buffered prefetching so we can yield data from disk without having I/O become blocking. These are two important methods you should use when loading data.\n",
    "\n",
    "Interested readers can learn more about both methods, as well as how to cache data to disk in the [data performance guide](https://www.tensorflow.org/guide/data_performance#prefetching)."
   ]
  },
  {
   "cell_type": "code",
   "execution_count": 9,
   "metadata": {
    "execution": {
     "iopub.execute_input": "2021-06-22T01:23:24.104220Z",
     "iopub.status.busy": "2021-06-22T01:23:24.103575Z",
     "iopub.status.idle": "2021-06-22T01:23:24.106825Z",
     "shell.execute_reply": "2021-06-22T01:23:24.106412Z"
    },
    "id": "ZmJMKFw7C4ki"
   },
   "outputs": [],
   "source": [
    "# Disable this will allow training without cache\n",
    "# AUTOTUNE = tf.data.AUTOTUNE\n",
    "# train_ds = train_ds.cache().prefetch(buffer_size=AUTOTUNE)"
   ]
  },
  {
   "cell_type": "code",
   "execution_count": 12,
   "metadata": {
    "execution": {
     "iopub.execute_input": "2021-06-22T01:23:24.110533Z",
     "iopub.status.busy": "2021-06-22T01:23:24.109976Z",
     "iopub.status.idle": "2021-06-22T01:23:24.276391Z",
     "shell.execute_reply": "2021-06-22T01:23:24.276752Z"
    },
    "id": "m0JyiEZ0imgf"
   },
   "outputs": [
    {
     "name": "stdout",
     "output_type": "stream",
     "text": [
      "(32, 224, 224, 3)\n",
      "(32,)\n"
     ]
    }
   ],
   "source": [
    "for image_batch, labels_batch in train_ds:\n",
    "  print(image_batch.shape)\n",
    "  print(labels_batch.shape)\n",
    "  break"
   ]
  },
  {
   "cell_type": "markdown",
   "metadata": {
    "id": "JzV457OXreQP"
   },
   "source": [
    "### Download the headless model\n",
    "\n",
    "TensorFlow Hub also distributes models without the top classification layer. These can be used to easily do transfer learning.\n",
    "\n",
    "Any [compatible image feature vector model](https://tfhub.dev/s?module-type=image-feature-vector&q=tf2) from TensorFlow Hub will work here."
   ]
  },
  {
   "cell_type": "code",
   "execution_count": 13,
   "metadata": {
    "execution": {
     "iopub.execute_input": "2021-06-22T01:23:28.396283Z",
     "iopub.status.busy": "2021-06-22T01:23:28.395701Z",
     "iopub.status.idle": "2021-06-22T01:23:28.397538Z",
     "shell.execute_reply": "2021-06-22T01:23:28.397894Z"
    },
    "id": "4bw8Jf94DSnP"
   },
   "outputs": [],
   "source": [
    "feature_extractor_model = \"https://tfhub.dev/google/tf2-preview/mobilenet_v2/feature_vector/4\" #@param {type:\"string\"}"
   ]
  },
  {
   "cell_type": "markdown",
   "metadata": {
    "id": "sgwmHugQF-PD"
   },
   "source": [
    "Create the feature extractor. Use `trainable=False` to freeze the variables in the feature extractor layer, so that the training only modifies the new classifier layer."
   ]
  },
  {
   "cell_type": "code",
   "execution_count": 14,
   "metadata": {
    "execution": {
     "iopub.execute_input": "2021-06-22T01:23:28.401620Z",
     "iopub.status.busy": "2021-06-22T01:23:28.401023Z",
     "iopub.status.idle": "2021-06-22T01:23:29.730216Z",
     "shell.execute_reply": "2021-06-22T01:23:29.729655Z"
    },
    "id": "5wB030nezBwI"
   },
   "outputs": [],
   "source": [
    "# Remove the <User>\\AppData\\Local\\Temp\\tfhub_modules if this fails\n",
    "feature_extractor_layer = hub.KerasLayer(\n",
    "    feature_extractor_model, input_shape=(224, 224, 3), trainable=False)"
   ]
  },
  {
   "cell_type": "markdown",
   "metadata": {
    "id": "0QzVdu4ZhcDE"
   },
   "source": [
    "It returns a 1280-length vector for each image:"
   ]
  },
  {
   "cell_type": "code",
   "execution_count": 15,
   "metadata": {
    "execution": {
     "iopub.execute_input": "2021-06-22T01:23:29.735553Z",
     "iopub.status.busy": "2021-06-22T01:23:29.734422Z",
     "iopub.status.idle": "2021-06-22T01:23:30.069009Z",
     "shell.execute_reply": "2021-06-22T01:23:30.068533Z"
    },
    "id": "Of7i-35F09ls"
   },
   "outputs": [
    {
     "name": "stdout",
     "output_type": "stream",
     "text": [
      "(32, 1280)\n"
     ]
    }
   ],
   "source": [
    "feature_batch = feature_extractor_layer(image_batch)\n",
    "print(feature_batch.shape)"
   ]
  },
  {
   "cell_type": "markdown",
   "metadata": {
    "id": "RPVeouTksO9q"
   },
   "source": [
    "### Attach a classification head\n",
    "\n",
    "Now wrap the hub layer in a `tf.keras.Sequential` model, and add a new classification layer."
   ]
  },
  {
   "cell_type": "code",
   "execution_count": 16,
   "metadata": {
    "execution": {
     "iopub.execute_input": "2021-06-22T01:23:30.076709Z",
     "iopub.status.busy": "2021-06-22T01:23:30.076066Z",
     "iopub.status.idle": "2021-06-22T01:23:30.270355Z",
     "shell.execute_reply": "2021-06-22T01:23:30.270686Z"
    },
    "id": "vQq_kCWzlqSu"
   },
   "outputs": [
    {
     "name": "stdout",
     "output_type": "stream",
     "text": [
      "Model: \"sequential\"\n",
      "_________________________________________________________________\n",
      "Layer (type)                 Output Shape              Param #   \n",
      "=================================================================\n",
      "keras_layer (KerasLayer)     (None, 1280)              2257984   \n",
      "_________________________________________________________________\n",
      "dense (Dense)                (None, 2)                 2562      \n",
      "=================================================================\n",
      "Total params: 2,260,546\n",
      "Trainable params: 2,562\n",
      "Non-trainable params: 2,257,984\n",
      "_________________________________________________________________\n"
     ]
    }
   ],
   "source": [
    "num_classes = len(class_names)\n",
    "\n",
    "model = tf.keras.Sequential([\n",
    "  feature_extractor_layer,\n",
    "  tf.keras.layers.Dense(num_classes)\n",
    "])\n",
    "\n",
    "model.summary()"
   ]
  },
  {
   "cell_type": "code",
   "execution_count": 17,
   "metadata": {
    "execution": {
     "iopub.execute_input": "2021-06-22T01:23:30.274894Z",
     "iopub.status.busy": "2021-06-22T01:23:30.274311Z",
     "iopub.status.idle": "2021-06-22T01:23:30.288119Z",
     "shell.execute_reply": "2021-06-22T01:23:30.288496Z"
    },
    "id": "IyhX4VCFmzVS"
   },
   "outputs": [],
   "source": [
    "predictions = model(image_batch)"
   ]
  },
  {
   "cell_type": "code",
   "execution_count": 18,
   "metadata": {
    "execution": {
     "iopub.execute_input": "2021-06-22T01:23:30.292623Z",
     "iopub.status.busy": "2021-06-22T01:23:30.291972Z",
     "iopub.status.idle": "2021-06-22T01:23:30.294218Z",
     "shell.execute_reply": "2021-06-22T01:23:30.294559Z"
    },
    "id": "FQdUaTkzm3jQ"
   },
   "outputs": [
    {
     "data": {
      "text/plain": [
       "TensorShape([32, 2])"
      ]
     },
     "execution_count": 18,
     "metadata": {},
     "output_type": "execute_result"
    }
   ],
   "source": [
    "predictions.shape"
   ]
  },
  {
   "cell_type": "markdown",
   "metadata": {
    "id": "OHbXQqIquFxQ"
   },
   "source": [
    "### Train the model\n",
    "\n",
    "Use compile to configure the training process:"
   ]
  },
  {
   "cell_type": "code",
   "execution_count": 19,
   "metadata": {
    "execution": {
     "iopub.execute_input": "2021-06-22T01:23:30.301403Z",
     "iopub.status.busy": "2021-06-22T01:23:30.300801Z",
     "iopub.status.idle": "2021-06-22T01:23:30.306671Z",
     "shell.execute_reply": "2021-06-22T01:23:30.307092Z"
    },
    "id": "4xRx8Rjzm67O"
   },
   "outputs": [],
   "source": [
    "model.compile(\n",
    "  optimizer=tf.keras.optimizers.Adam(),\n",
    "  loss=tf.keras.losses.SparseCategoricalCrossentropy(from_logits=True),\n",
    "  metrics=['acc'])"
   ]
  },
  {
   "cell_type": "markdown",
   "metadata": {
    "id": "58-BLV7dupJA"
   },
   "source": [
    "Now use the `.fit` method to train the model.\n",
    "\n",
    "To keep this example short train just 2 epochs. To visualize the training progress, use a custom callback to log the loss and accuracy of each batch individually, instead of the epoch average."
   ]
  },
  {
   "cell_type": "code",
   "execution_count": 20,
   "metadata": {
    "execution": {
     "iopub.execute_input": "2021-06-22T01:23:30.311993Z",
     "iopub.status.busy": "2021-06-22T01:23:30.311228Z",
     "iopub.status.idle": "2021-06-22T01:23:36.225172Z",
     "shell.execute_reply": "2021-06-22T01:23:36.224663Z"
    },
    "id": "JI0yAKd-nARd"
   },
   "outputs": [
    {
     "name": "stdout",
     "output_type": "stream",
     "text": [
      "Epoch 1/5\n",
      "115/115 [==============================] - 13s 83ms/step - loss: 0.0082 - acc: 1.0000\n",
      "Epoch 2/5\n",
      "115/115 [==============================] - 9s 77ms/step - loss: 0.0031 - acc: 1.0000\n",
      "Epoch 3/5\n",
      "115/115 [==============================] - 9s 77ms/step - loss: 0.0027 - acc: 1.0000\n",
      "Epoch 4/5\n",
      "115/115 [==============================] - 9s 77ms/step - loss: 0.0023 - acc: 1.0000\n",
      "Epoch 5/5\n",
      "115/115 [==============================] - 9s 77ms/step - loss: 0.0018 - acc: 1.0000\n"
     ]
    }
   ],
   "source": [
    "class CollectBatchStats(tf.keras.callbacks.Callback):\n",
    "  def __init__(self):\n",
    "    self.batch_losses = []\n",
    "    self.batch_acc = []\n",
    "\n",
    "  def on_train_batch_end(self, batch, logs=None):\n",
    "    self.batch_losses.append(logs['loss'])\n",
    "    self.batch_acc.append(logs['acc'])\n",
    "    self.model.reset_metrics()\n",
    "\n",
    "batch_stats_callback = CollectBatchStats()\n",
    "\n",
    "history = model.fit(train_ds, epochs=5,\n",
    "                    callbacks=[batch_stats_callback])"
   ]
  },
  {
   "cell_type": "markdown",
   "metadata": {
    "id": "Kd0N272B9Q0b"
   },
   "source": [
    "Now after, even just a few training iterations, we can already see that the model is making progress on the task."
   ]
  },
  {
   "cell_type": "code",
   "execution_count": 21,
   "metadata": {
    "execution": {
     "iopub.execute_input": "2021-06-22T01:23:36.247306Z",
     "iopub.status.busy": "2021-06-22T01:23:36.241969Z",
     "iopub.status.idle": "2021-06-22T01:23:36.349258Z",
     "shell.execute_reply": "2021-06-22T01:23:36.348661Z"
    },
    "id": "A5RfS1QIIP-P"
   },
   "outputs": [
    {
     "data": {
      "text/plain": [
       "[<matplotlib.lines.Line2D at 0x24b5bb932e0>]"
      ]
     },
     "execution_count": 21,
     "metadata": {},
     "output_type": "execute_result"
    },
    {
     "data": {
      "image/png": "[encoded data removed]",
      "text/plain": [
       "<Figure size 432x288 with 1 Axes>"
      ]
     },
     "metadata": {
      "needs_background": "light"
     },
     "output_type": "display_data"
    }
   ],
   "source": [
    "plt.figure()\n",
    "plt.ylabel(\"Loss\")\n",
    "plt.xlabel(\"Training Steps\")\n",
    "plt.ylim([0,2])\n",
    "plt.plot(batch_stats_callback.batch_losses)"
   ]
  },
  {
   "cell_type": "code",
   "execution_count": 22,
   "metadata": {
    "execution": {
     "iopub.execute_input": "2021-06-22T01:23:36.370414Z",
     "iopub.status.busy": "2021-06-22T01:23:36.369520Z",
     "iopub.status.idle": "2021-06-22T01:23:36.465152Z",
     "shell.execute_reply": "2021-06-22T01:23:36.464690Z"
    },
    "id": "3uvX11avTiDg"
   },
   "outputs": [
    {
     "data": {
      "text/plain": [
       "[<matplotlib.lines.Line2D at 0x24b5c355940>]"
      ]
     },
     "execution_count": 22,
     "metadata": {},
     "output_type": "execute_result"
    },
    {
     "data": {
      "image/png": "[encoded data removed]",
      "text/plain": [
       "<Figure size 432x288 with 1 Axes>"
      ]
     },
     "metadata": {
      "needs_background": "light"
     },
     "output_type": "display_data"
    }
   ],
   "source": [
    "plt.figure()\n",
    "plt.ylabel(\"Accuracy\")\n",
    "plt.xlabel(\"Training Steps\")\n",
    "plt.ylim([0,1])\n",
    "plt.plot(batch_stats_callback.batch_acc)"
   ]
  },
  {
   "cell_type": "markdown",
   "metadata": {
    "id": "kb__ZN8uFn-D"
   },
   "source": [
    "### Check the predictions\n",
    "\n",
    "To redo the plot from before, first get the ordered list of class names:"
   ]
  },
  {
   "cell_type": "code",
   "execution_count": 23,
   "metadata": {
    "execution": {
     "iopub.execute_input": "2021-06-22T01:23:36.469062Z",
     "iopub.status.busy": "2021-06-22T01:23:36.468526Z",
     "iopub.status.idle": "2021-06-22T01:23:36.953569Z",
     "shell.execute_reply": "2021-06-22T01:23:36.953944Z"
    },
    "id": "JGbEf5l1I4jz"
   },
   "outputs": [],
   "source": [
    "predicted_batch = model.predict(image_batch)\n",
    "predicted_id = np.argmax(predicted_batch, axis=-1)\n",
    "predicted_label_batch = class_names[predicted_id]"
   ]
  },
  {
   "cell_type": "markdown",
   "metadata": {
    "id": "CkGbZxl9GZs-"
   },
   "source": [
    "Plot the result"
   ]
  },
  {
   "cell_type": "code",
   "execution_count": 24,
   "metadata": {
    "execution": {
     "iopub.execute_input": "2021-06-22T01:23:36.974638Z",
     "iopub.status.busy": "2021-06-22T01:23:36.974020Z",
     "iopub.status.idle": "2021-06-22T01:23:38.312746Z",
     "shell.execute_reply": "2021-06-22T01:23:38.313215Z"
    },
    "id": "hW3Ic_ZlwtrZ"
   },
   "outputs": [
    {
     "data": {
      "image/png": "[encoded data removed]",
      "text/plain": [
       "<Figure size 360x288 with 30 Axes>"
      ]
     },
     "metadata": {
      "needs_background": "light"
     },
     "output_type": "display_data"
    }
   ],
   "source": [
    "\n",
    "plt.figure(figsize=(5,4\n",
    "                   ))\n",
    "plt.subplots_adjust(hspace=0.5)\n",
    "for n in range(30):\n",
    "  plt.subplot(6,5,n+1)\n",
    "  plt.imshow(image_batch[n], interpolation=\"sinc\")\n",
    "  plt.title(predicted_label_batch[n].title())\n",
    "  plt.axis('off')\n",
    "_ = plt.suptitle(\"Model predictions\")"
   ]
  },
  {
   "cell_type": "markdown",
   "metadata": {
    "id": "uRcJnAABr22x"
   },
   "source": [
    "## Export your model\n",
    "\n",
    "Now that you've trained the model, export it as a SavedModel for use later on."
   ]
  },
  {
   "cell_type": "code",
   "execution_count": 25,
   "metadata": {
    "execution": {
     "iopub.execute_input": "2021-06-22T01:23:38.321197Z",
     "iopub.status.busy": "2021-06-22T01:23:38.318655Z",
     "iopub.status.idle": "2021-06-22T01:23:42.434912Z",
     "shell.execute_reply": "2021-06-22T01:23:42.435280Z"
    },
    "id": "PLcqg-RmsLno"
   },
   "outputs": [
    {
     "name": "stdout",
     "output_type": "stream",
     "text": [
      "INFO:tensorflow:Assets written to: C:/tmp/saved_models/ahs-1\\assets\n"
     ]
    },
    {
     "name": "stderr",
     "output_type": "stream",
     "text": [
      "INFO:tensorflow:Assets written to: C:/tmp/saved_models/ahs-1\\assets\n"
     ]
    },
    {
     "data": {
      "text/plain": [
       "'C:/tmp/saved_models/ahs-1'"
      ]
     },
     "execution_count": 25,
     "metadata": {},
     "output_type": "execute_result"
    }
   ],
   "source": [
    "t = time.time()\n",
    "\n",
    "export_path = \"C:/tmp/saved_models/ahs-1\"\n",
    "model.save(export_path)\n",
    "\n",
    "export_path"
   ]
  },
  {
   "cell_type": "markdown",
   "metadata": {
    "id": "AhQ9liIUsPsi"
   },
   "source": [
    "Now confirm that we can reload it, and it still gives the same results:"
   ]
  },
  {
   "cell_type": "code",
   "execution_count": 27,
   "metadata": {
    "execution": {
     "iopub.execute_input": "2021-06-22T01:23:42.442761Z",
     "iopub.status.busy": "2021-06-22T01:23:42.442085Z",
     "iopub.status.idle": "2021-06-22T01:23:45.097809Z",
     "shell.execute_reply": "2021-06-22T01:23:45.097258Z"
    },
    "id": "7nI5fvkAQvbS"
   },
   "outputs": [
    {
     "name": "stdout",
     "output_type": "stream",
     "text": [
      "Model: \"sequential\"\n",
      "_________________________________________________________________\n",
      "Layer (type)                 Output Shape              Param #   \n",
      "=================================================================\n",
      "keras_layer (KerasLayer)     (None, 1280)              2257984   \n",
      "_________________________________________________________________\n",
      "dense (Dense)                (None, 2)                 2562      \n",
      "=================================================================\n",
      "Total params: 2,260,546\n",
      "Trainable params: 2,562\n",
      "Non-trainable params: 2,257,984\n",
      "_________________________________________________________________\n"
     ]
    }
   ],
   "source": [
    "new_model = tf.keras.models.load_model(export_path)\n",
    "new_model.summary()"
   ]
  },
  {
   "cell_type": "code",
   "execution_count": 41,
   "metadata": {
    "execution": {
     "iopub.execute_input": "2021-06-22T01:23:45.114940Z",
     "iopub.status.busy": "2021-06-22T01:23:45.114313Z",
     "iopub.status.idle": "2021-06-22T01:23:45.706482Z",
     "shell.execute_reply": "2021-06-22T01:23:45.706908Z"
    },
    "id": "jor83-LqI8xW"
   },
   "outputs": [
    {
     "data": {
      "text/plain": [
       "'no'"
      ]
     },
     "execution_count": 41,
     "metadata": {},
     "output_type": "execute_result"
    }
   ],
   "source": [
    "\n",
    "IMAGE_SHAPE = (224, 224)\n",
    "image_file = 'C:/Work/LexisNexis/HPCC/2021/intern/gnn-cloud/images/test/x100002.bmp'\n",
    "x100002 = Image.open(image_file).resize(IMAGE_SHAPE)\n",
    "x100002 = np.array(x100002)/255.0\n",
    "x100002.shape\n",
    "result = model.predict(x100002[np.newaxis, ...])\n",
    "result.shape\n",
    "predicted_class = np.argmax(result[0], axis=-1)\n",
    "#index 0 is 'no' and index 1 is 'yes'\n",
    "class_names[predicted_class]\n",
    "\n"
   ]
  },
  {
   "cell_type": "code",
   "execution_count": 42,
   "metadata": {},
   "outputs": [
    {
     "data": {
      "text/plain": [
       "'yes'"
      ]
     },
     "execution_count": 42,
     "metadata": {},
     "output_type": "execute_result"
    }
   ],
   "source": [
    "image_file = 'C:/Work/LexisNexis/HPCC/2021/intern/gnn-cloud/images/test/s12345600125.bmp'\n",
    "s123456 = Image.open(image_file).resize(IMAGE_SHAPE)\n",
    "s123456 = np.array(s123456)/255.0\n",
    "s123456.shape\n",
    "result = model.predict(s123456[np.newaxis, ...])\n",
    "result.shape\n",
    "predicted_class = np.argmax(result[0], axis=-1)\n",
    "#index 0 is 'no' and index 1 is 'yes'\n",
    "class_names[predicted_class]"
   ]
  },
  {
   "cell_type": "markdown",
   "metadata": {
    "id": "TYZd4MNiV3Rc"
   },
   "source": [
    "This SavedModel can be loaded for inference later, or converted to [TFLite](https://www.tensorflow.org/lite/convert/) or [TFjs](https://github.com/tensorflow/tfjs-converter).\n"
   ]
  },
  {
   "cell_type": "markdown",
   "metadata": {
    "id": "mSBRrW-MqBbk"
   },
   "source": [
    "## Learn more\n",
    "\n",
    "Check out more [tutorials](https://www.tensorflow.org/hub/tutorials) for using image models from TensorFlow Hub."
   ]
  },
  {
   "cell_type": "code",
   "execution_count": null,
   "metadata": {},
   "outputs": [],
   "source": []
  }
 ],
 "metadata": {
  "accelerator": "GPU",
  "colab": {
   "collapsed_sections": [
    "W_tvPdyfA-BL"
   ],
   "name": "transfer_learning_with_hub.ipynb",
   "toc_visible": true
  },
  "kernelspec": {
   "display_name": "Python 3",
   "language": "python",
   "name": "python3"
  },
  "language_info": {
   "codemirror_mode": {
    "name": "ipython",
    "version": 3
   },
   "file_extension": ".py",
   "mimetype": "text/x-python",
   "name": "python",
   "nbconvert_exporter": "python",
   "pygments_lexer": "ipython3",
   "version": "3.9.5"
  }
 },
 "nbformat": 4,
 "nbformat_minor": 1
}
